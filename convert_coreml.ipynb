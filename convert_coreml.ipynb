{
  "nbformat": 4,
  "nbformat_minor": 0,
  "metadata": {
    "kernelspec": {
      "display_name": "torch171",
      "language": "python",
      "name": "torch171"
    },
    "language_info": {
      "codemirror_mode": {
        "name": "ipython",
        "version": 3
      },
      "file_extension": ".py",
      "mimetype": "text/x-python",
      "name": "python",
      "nbconvert_exporter": "python",
      "pygments_lexer": "ipython3",
      "version": "3.7.9"
    },
    "colab": {
      "name": "test_faces.ipynb",
      "provenance": [],
      "include_colab_link": true
    }
  },
  "cells": [
    {
      "cell_type": "markdown",
      "metadata": {
        "id": "view-in-github",
        "colab_type": "text"
      },
      "source": [
        "<a href=\"https://colab.research.google.com/github/JacopoMangiavacchi/animegan2-coreml/blob/master/convert_coreml.ipynb\" target=\"_parent\"><img src=\"https://colab.research.google.com/assets/colab-badge.svg\" alt=\"Open In Colab\"/></a>"
      ]
    },
    {
      "cell_type": "code",
      "metadata": {
        "id": "qTyeQkJiqIap"
      },
      "source": [
        "import os\n",
        "import cv2\n",
        "import matplotlib.pyplot as plt\n",
        "import torch\n",
        "import random\n",
        "import numpy as np"
      ],
      "execution_count": 1,
      "outputs": []
    },
    {
      "cell_type": "code",
      "metadata": {
        "id": "c-aipQlLkolf",
        "colab": {
          "base_uri": "https://localhost:8080/"
        },
        "outputId": "2eadffa3-e84f-45a7-9644-b4b5e55cc5e0"
      },
      "source": [
        "!git clone https://github.com/jacopomangiavacchi/animegan2-coreml"
      ],
      "execution_count": 2,
      "outputs": [
        {
          "output_type": "stream",
          "name": "stdout",
          "text": [
            "Cloning into 'animegan2-coreml'...\n",
            "remote: Enumerating objects: 46, done.\u001b[K\n",
            "remote: Counting objects: 100% (46/46), done.\u001b[K\n",
            "remote: Compressing objects: 100% (40/40), done.\u001b[K\n",
            "remote: Total 46 (delta 11), reused 34 (delta 5), pack-reused 0\u001b[K\n",
            "Unpacking objects: 100% (46/46), done.\n"
          ]
        }
      ]
    },
    {
      "cell_type": "code",
      "metadata": {
        "id": "fiZ9sJtVmOHy"
      },
      "source": [
        "os.chdir(f'./animegan2-coreml')"
      ],
      "execution_count": 3,
      "outputs": []
    },
    {
      "cell_type": "code",
      "metadata": {
        "id": "4ta4WTVdkUhZ"
      },
      "source": [
        "from model import Generator\n",
        "\n",
        "def load_image(path, size=None):\n",
        "    image = image2tensor(cv2.cvtColor(cv2.imread(path), cv2.COLOR_BGR2RGB))\n",
        "\n",
        "    w, h = image.shape[-2:]\n",
        "    if w != h:\n",
        "        crop_size = min(w, h)\n",
        "        left = (w - crop_size)//2\n",
        "        right = left + crop_size\n",
        "        top = (h - crop_size)//2\n",
        "        bottom = top + crop_size\n",
        "        image = image[:,:,left:right, top:bottom]\n",
        "\n",
        "    if size is not None and image.shape[-1] != size:\n",
        "        image = torch.nn.functional.interpolate(image, (size, size), mode=\"bilinear\", align_corners=True)\n",
        "    \n",
        "    return image\n",
        "\n",
        "def image2tensor(image):\n",
        "    image = torch.FloatTensor(image).permute(2,0,1).unsqueeze(0)/255.\n",
        "    return (image-0.5)/0.5\n",
        "\n",
        "def tensor2image(tensor):\n",
        "    tensor = tensor.clamp_(-1., 1.).detach().squeeze().permute(1,2,0).cpu().numpy()\n",
        "    return tensor*0.5 + 0.5\n",
        "\n",
        "def imshow(img, size=5, cmap='jet'):\n",
        "    plt.figure(figsize=(size,size))\n",
        "    plt.imshow(img, cmap=cmap)\n",
        "    plt.axis('off')\n",
        "    plt.show()"
      ],
      "execution_count": 4,
      "outputs": []
    },
    {
      "cell_type": "code",
      "metadata": {
        "id": "kVFiEMWooRgm"
      },
      "source": [
        "device = 'cpu'\n",
        "torch.set_grad_enabled(False)\n",
        "image_size = 512\n",
        "\n",
        "model = Generator().eval().to(device)"
      ],
      "execution_count": 5,
      "outputs": []
    },
    {
      "cell_type": "code",
      "metadata": {
        "id": "quUonyi4kUha",
        "colab": {
          "base_uri": "https://localhost:8080/"
        },
        "outputId": "69ee7bf4-2201-49ef-d182-09923e08d16c"
      },
      "source": [
        "ckpt = torch.load(f\"weights/celeba_distill.pt\", map_location=device)\n",
        "# ckpt = torch.load(f\"weights/face_paint_512_v2.pt\", map_location=device)\n",
        "# ckpt = torch.load(f\"weights/paprika.pt\", map_location=device)\n",
        "model.load_state_dict(ckpt)"
      ],
      "execution_count": 19,
      "outputs": [
        {
          "output_type": "execute_result",
          "data": {
            "text/plain": [
              "<All keys matched successfully>"
            ]
          },
          "metadata": {},
          "execution_count": 19
        }
      ]
    },
    {
      "cell_type": "code",
      "metadata": {
        "id": "ZNGnG2iQoWjw",
        "colab": {
          "base_uri": "https://localhost:8080/"
        },
        "outputId": "cd7b0053-015e-4135-ccb8-d089b28f4ae1"
      },
      "source": [
        "!pip install coremltools"
      ],
      "execution_count": 7,
      "outputs": [
        {
          "output_type": "stream",
          "name": "stdout",
          "text": [
            "Collecting coremltools\n",
            "  Downloading coremltools-5.1.0-cp37-none-manylinux1_x86_64.whl (1.6 MB)\n",
            "\u001b[?25l\r\u001b[K     |▏                               | 10 kB 21.1 MB/s eta 0:00:01\r\u001b[K     |▍                               | 20 kB 25.5 MB/s eta 0:00:01\r\u001b[K     |▋                               | 30 kB 18.9 MB/s eta 0:00:01\r\u001b[K     |▉                               | 40 kB 15.5 MB/s eta 0:00:01\r\u001b[K     |█                               | 51 kB 5.5 MB/s eta 0:00:01\r\u001b[K     |█▎                              | 61 kB 5.9 MB/s eta 0:00:01\r\u001b[K     |█▌                              | 71 kB 5.5 MB/s eta 0:00:01\r\u001b[K     |█▊                              | 81 kB 6.1 MB/s eta 0:00:01\r\u001b[K     |██                              | 92 kB 6.0 MB/s eta 0:00:01\r\u001b[K     |██                              | 102 kB 5.3 MB/s eta 0:00:01\r\u001b[K     |██▎                             | 112 kB 5.3 MB/s eta 0:00:01\r\u001b[K     |██▌                             | 122 kB 5.3 MB/s eta 0:00:01\r\u001b[K     |██▊                             | 133 kB 5.3 MB/s eta 0:00:01\r\u001b[K     |███                             | 143 kB 5.3 MB/s eta 0:00:01\r\u001b[K     |███▏                            | 153 kB 5.3 MB/s eta 0:00:01\r\u001b[K     |███▍                            | 163 kB 5.3 MB/s eta 0:00:01\r\u001b[K     |███▋                            | 174 kB 5.3 MB/s eta 0:00:01\r\u001b[K     |███▉                            | 184 kB 5.3 MB/s eta 0:00:01\r\u001b[K     |████                            | 194 kB 5.3 MB/s eta 0:00:01\r\u001b[K     |████▏                           | 204 kB 5.3 MB/s eta 0:00:01\r\u001b[K     |████▍                           | 215 kB 5.3 MB/s eta 0:00:01\r\u001b[K     |████▋                           | 225 kB 5.3 MB/s eta 0:00:01\r\u001b[K     |████▉                           | 235 kB 5.3 MB/s eta 0:00:01\r\u001b[K     |█████                           | 245 kB 5.3 MB/s eta 0:00:01\r\u001b[K     |█████▎                          | 256 kB 5.3 MB/s eta 0:00:01\r\u001b[K     |█████▌                          | 266 kB 5.3 MB/s eta 0:00:01\r\u001b[K     |█████▊                          | 276 kB 5.3 MB/s eta 0:00:01\r\u001b[K     |██████                          | 286 kB 5.3 MB/s eta 0:00:01\r\u001b[K     |██████▏                         | 296 kB 5.3 MB/s eta 0:00:01\r\u001b[K     |██████▎                         | 307 kB 5.3 MB/s eta 0:00:01\r\u001b[K     |██████▌                         | 317 kB 5.3 MB/s eta 0:00:01\r\u001b[K     |██████▊                         | 327 kB 5.3 MB/s eta 0:00:01\r\u001b[K     |███████                         | 337 kB 5.3 MB/s eta 0:00:01\r\u001b[K     |███████▏                        | 348 kB 5.3 MB/s eta 0:00:01\r\u001b[K     |███████▍                        | 358 kB 5.3 MB/s eta 0:00:01\r\u001b[K     |███████▋                        | 368 kB 5.3 MB/s eta 0:00:01\r\u001b[K     |███████▉                        | 378 kB 5.3 MB/s eta 0:00:01\r\u001b[K     |████████                        | 389 kB 5.3 MB/s eta 0:00:01\r\u001b[K     |████████▏                       | 399 kB 5.3 MB/s eta 0:00:01\r\u001b[K     |████████▍                       | 409 kB 5.3 MB/s eta 0:00:01\r\u001b[K     |████████▋                       | 419 kB 5.3 MB/s eta 0:00:01\r\u001b[K     |████████▉                       | 430 kB 5.3 MB/s eta 0:00:01\r\u001b[K     |█████████                       | 440 kB 5.3 MB/s eta 0:00:01\r\u001b[K     |█████████▎                      | 450 kB 5.3 MB/s eta 0:00:01\r\u001b[K     |█████████▌                      | 460 kB 5.3 MB/s eta 0:00:01\r\u001b[K     |█████████▊                      | 471 kB 5.3 MB/s eta 0:00:01\r\u001b[K     |██████████                      | 481 kB 5.3 MB/s eta 0:00:01\r\u001b[K     |██████████▏                     | 491 kB 5.3 MB/s eta 0:00:01\r\u001b[K     |██████████▎                     | 501 kB 5.3 MB/s eta 0:00:01\r\u001b[K     |██████████▌                     | 512 kB 5.3 MB/s eta 0:00:01\r\u001b[K     |██████████▊                     | 522 kB 5.3 MB/s eta 0:00:01\r\u001b[K     |███████████                     | 532 kB 5.3 MB/s eta 0:00:01\r\u001b[K     |███████████▏                    | 542 kB 5.3 MB/s eta 0:00:01\r\u001b[K     |███████████▍                    | 552 kB 5.3 MB/s eta 0:00:01\r\u001b[K     |███████████▋                    | 563 kB 5.3 MB/s eta 0:00:01\r\u001b[K     |███████████▉                    | 573 kB 5.3 MB/s eta 0:00:01\r\u001b[K     |████████████                    | 583 kB 5.3 MB/s eta 0:00:01\r\u001b[K     |████████████▎                   | 593 kB 5.3 MB/s eta 0:00:01\r\u001b[K     |████████████▍                   | 604 kB 5.3 MB/s eta 0:00:01\r\u001b[K     |████████████▋                   | 614 kB 5.3 MB/s eta 0:00:01\r\u001b[K     |████████████▉                   | 624 kB 5.3 MB/s eta 0:00:01\r\u001b[K     |█████████████                   | 634 kB 5.3 MB/s eta 0:00:01\r\u001b[K     |█████████████▎                  | 645 kB 5.3 MB/s eta 0:00:01\r\u001b[K     |█████████████▌                  | 655 kB 5.3 MB/s eta 0:00:01\r\u001b[K     |█████████████▊                  | 665 kB 5.3 MB/s eta 0:00:01\r\u001b[K     |██████████████                  | 675 kB 5.3 MB/s eta 0:00:01\r\u001b[K     |██████████████▏                 | 686 kB 5.3 MB/s eta 0:00:01\r\u001b[K     |██████████████▍                 | 696 kB 5.3 MB/s eta 0:00:01\r\u001b[K     |██████████████▌                 | 706 kB 5.3 MB/s eta 0:00:01\r\u001b[K     |██████████████▊                 | 716 kB 5.3 MB/s eta 0:00:01\r\u001b[K     |███████████████                 | 727 kB 5.3 MB/s eta 0:00:01\r\u001b[K     |███████████████▏                | 737 kB 5.3 MB/s eta 0:00:01\r\u001b[K     |███████████████▍                | 747 kB 5.3 MB/s eta 0:00:01\r\u001b[K     |███████████████▋                | 757 kB 5.3 MB/s eta 0:00:01\r\u001b[K     |███████████████▉                | 768 kB 5.3 MB/s eta 0:00:01\r\u001b[K     |████████████████                | 778 kB 5.3 MB/s eta 0:00:01\r\u001b[K     |████████████████▎               | 788 kB 5.3 MB/s eta 0:00:01\r\u001b[K     |████████████████▍               | 798 kB 5.3 MB/s eta 0:00:01\r\u001b[K     |████████████████▋               | 808 kB 5.3 MB/s eta 0:00:01\r\u001b[K     |████████████████▉               | 819 kB 5.3 MB/s eta 0:00:01\r\u001b[K     |█████████████████               | 829 kB 5.3 MB/s eta 0:00:01\r\u001b[K     |█████████████████▎              | 839 kB 5.3 MB/s eta 0:00:01\r\u001b[K     |█████████████████▌              | 849 kB 5.3 MB/s eta 0:00:01\r\u001b[K     |█████████████████▊              | 860 kB 5.3 MB/s eta 0:00:01\r\u001b[K     |██████████████████              | 870 kB 5.3 MB/s eta 0:00:01\r\u001b[K     |██████████████████▏             | 880 kB 5.3 MB/s eta 0:00:01\r\u001b[K     |██████████████████▍             | 890 kB 5.3 MB/s eta 0:00:01\r\u001b[K     |██████████████████▌             | 901 kB 5.3 MB/s eta 0:00:01\r\u001b[K     |██████████████████▊             | 911 kB 5.3 MB/s eta 0:00:01\r\u001b[K     |███████████████████             | 921 kB 5.3 MB/s eta 0:00:01\r\u001b[K     |███████████████████▏            | 931 kB 5.3 MB/s eta 0:00:01\r\u001b[K     |███████████████████▍            | 942 kB 5.3 MB/s eta 0:00:01\r\u001b[K     |███████████████████▋            | 952 kB 5.3 MB/s eta 0:00:01\r\u001b[K     |███████████████████▉            | 962 kB 5.3 MB/s eta 0:00:01\r\u001b[K     |████████████████████            | 972 kB 5.3 MB/s eta 0:00:01\r\u001b[K     |████████████████████▎           | 983 kB 5.3 MB/s eta 0:00:01\r\u001b[K     |████████████████████▌           | 993 kB 5.3 MB/s eta 0:00:01\r\u001b[K     |████████████████████▋           | 1.0 MB 5.3 MB/s eta 0:00:01\r\u001b[K     |████████████████████▉           | 1.0 MB 5.3 MB/s eta 0:00:01\r\u001b[K     |█████████████████████           | 1.0 MB 5.3 MB/s eta 0:00:01\r\u001b[K     |█████████████████████▎          | 1.0 MB 5.3 MB/s eta 0:00:01\r\u001b[K     |█████████████████████▌          | 1.0 MB 5.3 MB/s eta 0:00:01\r\u001b[K     |█████████████████████▊          | 1.1 MB 5.3 MB/s eta 0:00:01\r\u001b[K     |██████████████████████          | 1.1 MB 5.3 MB/s eta 0:00:01\r\u001b[K     |██████████████████████▏         | 1.1 MB 5.3 MB/s eta 0:00:01\r\u001b[K     |██████████████████████▍         | 1.1 MB 5.3 MB/s eta 0:00:01\r\u001b[K     |██████████████████████▌         | 1.1 MB 5.3 MB/s eta 0:00:01\r\u001b[K     |██████████████████████▊         | 1.1 MB 5.3 MB/s eta 0:00:01\r\u001b[K     |███████████████████████         | 1.1 MB 5.3 MB/s eta 0:00:01\r\u001b[K     |███████████████████████▏        | 1.1 MB 5.3 MB/s eta 0:00:01\r\u001b[K     |███████████████████████▍        | 1.1 MB 5.3 MB/s eta 0:00:01\r\u001b[K     |███████████████████████▋        | 1.1 MB 5.3 MB/s eta 0:00:01\r\u001b[K     |███████████████████████▉        | 1.2 MB 5.3 MB/s eta 0:00:01\r\u001b[K     |████████████████████████        | 1.2 MB 5.3 MB/s eta 0:00:01\r\u001b[K     |████████████████████████▎       | 1.2 MB 5.3 MB/s eta 0:00:01\r\u001b[K     |████████████████████████▌       | 1.2 MB 5.3 MB/s eta 0:00:01\r\u001b[K     |████████████████████████▋       | 1.2 MB 5.3 MB/s eta 0:00:01\r\u001b[K     |████████████████████████▉       | 1.2 MB 5.3 MB/s eta 0:00:01\r\u001b[K     |█████████████████████████       | 1.2 MB 5.3 MB/s eta 0:00:01\r\u001b[K     |█████████████████████████▎      | 1.2 MB 5.3 MB/s eta 0:00:01\r\u001b[K     |█████████████████████████▌      | 1.2 MB 5.3 MB/s eta 0:00:01\r\u001b[K     |█████████████████████████▊      | 1.2 MB 5.3 MB/s eta 0:00:01\r\u001b[K     |██████████████████████████      | 1.3 MB 5.3 MB/s eta 0:00:01\r\u001b[K     |██████████████████████████▏     | 1.3 MB 5.3 MB/s eta 0:00:01\r\u001b[K     |██████████████████████████▍     | 1.3 MB 5.3 MB/s eta 0:00:01\r\u001b[K     |██████████████████████████▋     | 1.3 MB 5.3 MB/s eta 0:00:01\r\u001b[K     |██████████████████████████▊     | 1.3 MB 5.3 MB/s eta 0:00:01\r\u001b[K     |███████████████████████████     | 1.3 MB 5.3 MB/s eta 0:00:01\r\u001b[K     |███████████████████████████▏    | 1.3 MB 5.3 MB/s eta 0:00:01\r\u001b[K     |███████████████████████████▍    | 1.3 MB 5.3 MB/s eta 0:00:01\r\u001b[K     |███████████████████████████▋    | 1.3 MB 5.3 MB/s eta 0:00:01\r\u001b[K     |███████████████████████████▉    | 1.4 MB 5.3 MB/s eta 0:00:01\r\u001b[K     |████████████████████████████    | 1.4 MB 5.3 MB/s eta 0:00:01\r\u001b[K     |████████████████████████████▎   | 1.4 MB 5.3 MB/s eta 0:00:01\r\u001b[K     |████████████████████████████▌   | 1.4 MB 5.3 MB/s eta 0:00:01\r\u001b[K     |████████████████████████████▊   | 1.4 MB 5.3 MB/s eta 0:00:01\r\u001b[K     |████████████████████████████▉   | 1.4 MB 5.3 MB/s eta 0:00:01\r\u001b[K     |█████████████████████████████   | 1.4 MB 5.3 MB/s eta 0:00:01\r\u001b[K     |█████████████████████████████▎  | 1.4 MB 5.3 MB/s eta 0:00:01\r\u001b[K     |█████████████████████████████▌  | 1.4 MB 5.3 MB/s eta 0:00:01\r\u001b[K     |█████████████████████████████▊  | 1.4 MB 5.3 MB/s eta 0:00:01\r\u001b[K     |██████████████████████████████  | 1.5 MB 5.3 MB/s eta 0:00:01\r\u001b[K     |██████████████████████████████▏ | 1.5 MB 5.3 MB/s eta 0:00:01\r\u001b[K     |██████████████████████████████▍ | 1.5 MB 5.3 MB/s eta 0:00:01\r\u001b[K     |██████████████████████████████▋ | 1.5 MB 5.3 MB/s eta 0:00:01\r\u001b[K     |██████████████████████████████▊ | 1.5 MB 5.3 MB/s eta 0:00:01\r\u001b[K     |███████████████████████████████ | 1.5 MB 5.3 MB/s eta 0:00:01\r\u001b[K     |███████████████████████████████▏| 1.5 MB 5.3 MB/s eta 0:00:01\r\u001b[K     |███████████████████████████████▍| 1.5 MB 5.3 MB/s eta 0:00:01\r\u001b[K     |███████████████████████████████▋| 1.5 MB 5.3 MB/s eta 0:00:01\r\u001b[K     |███████████████████████████████▉| 1.5 MB 5.3 MB/s eta 0:00:01\r\u001b[K     |████████████████████████████████| 1.6 MB 5.3 MB/s \n",
            "\u001b[?25hRequirement already satisfied: protobuf>=3.1.0 in /usr/local/lib/python3.7/dist-packages (from coremltools) (3.17.3)\n",
            "Requirement already satisfied: packaging in /usr/local/lib/python3.7/dist-packages (from coremltools) (21.2)\n",
            "Requirement already satisfied: sympy in /usr/local/lib/python3.7/dist-packages (from coremltools) (1.7.1)\n",
            "Requirement already satisfied: tqdm in /usr/local/lib/python3.7/dist-packages (from coremltools) (4.62.3)\n",
            "Requirement already satisfied: numpy>=1.14.5 in /usr/local/lib/python3.7/dist-packages (from coremltools) (1.19.5)\n",
            "Requirement already satisfied: six>=1.9 in /usr/local/lib/python3.7/dist-packages (from protobuf>=3.1.0->coremltools) (1.15.0)\n",
            "Requirement already satisfied: pyparsing<3,>=2.0.2 in /usr/local/lib/python3.7/dist-packages (from packaging->coremltools) (2.4.7)\n",
            "Requirement already satisfied: mpmath>=0.19 in /usr/local/lib/python3.7/dist-packages (from sympy->coremltools) (1.2.1)\n",
            "Installing collected packages: coremltools\n",
            "Successfully installed coremltools-5.1.0\n"
          ]
        }
      ]
    },
    {
      "cell_type": "code",
      "metadata": {
        "id": "yuAtLJWPrFBU"
      },
      "source": [
        "image = torch.randn(1, 3, image_size, image_size)\n",
        "output = model(image.to(device))"
      ],
      "execution_count": 21,
      "outputs": []
    },
    {
      "cell_type": "code",
      "metadata": {
        "colab": {
          "base_uri": "https://localhost:8080/"
        },
        "id": "9wzy1AEVraMd",
        "outputId": "4aa2c853-278a-4c2a-8eae-a03bce2efba7"
      },
      "source": [
        "# scripted_model = torch.jit.script(model)\n",
        "traced = torch.jit.trace(model, image)"
      ],
      "execution_count": 9,
      "outputs": [
        {
          "output_type": "stream",
          "name": "stderr",
          "text": [
            "/usr/local/lib/python3.7/dist-packages/torch/nn/functional.py:2359: UserWarning: __floordiv__ is deprecated, and its behavior will change in a future version of pytorch. It currently rounds toward 0 (like the 'trunc' function NOT 'floor'). This results in incorrect rounding for negative values. To keep the current behavior, use torch.div(a, b, rounding_mode='trunc'), or for actual floor division, use torch.div(a, b, rounding_mode='floor').\n",
            "  _verify_batch_size([input.size(0) * input.size(1) // num_groups, num_groups] + list(input.size()[2:]))\n"
          ]
        }
      ]
    },
    {
      "cell_type": "code",
      "metadata": {
        "colab": {
          "base_uri": "https://localhost:8080/"
        },
        "id": "uCoxTUyTs9jb",
        "outputId": "b06f0468-ab53-4b1f-ce41-af5d1d8e3cb8"
      },
      "source": [
        "import coremltools\n",
        "scale = 1/(0.226*255.0)\n",
        "bias = [- 0.485/(0.229) , - 0.456/(0.224), - 0.406/(0.225)]\n",
        "\n",
        "image_input = coremltools.ImageType(name=\"input_1\",\n",
        "                           shape=(1, 3, 512, 512),\n",
        "                           scale=scale, bias=bias)"
      ],
      "execution_count": 10,
      "outputs": [
        {
          "output_type": "stream",
          "name": "stderr",
          "text": [
            "WARNING:root:scikit-learn version 0.22.2.post1 is not supported. Minimum required version: 0.17. Maximum required version: 0.19.2. Disabling scikit-learn conversion API.\n",
            "WARNING:root:TensorFlow version 2.7.0 has not been tested with coremltools. You may run into unexpected errors. TensorFlow 2.5.0 is the most recent version that has been tested.\n",
            "WARNING:root:Keras version 2.7.0 has not been tested with coremltools. You may run into unexpected errors. Keras 2.2.4 is the most recent version that has been tested.\n",
            "WARNING:root:Torch version 1.10.0+cu111 has not been tested with coremltools. You may run into unexpected errors. Torch 1.9.1 is the most recent version that has been tested.\n"
          ]
        }
      ]
    },
    {
      "cell_type": "code",
      "metadata": {
        "colab": {
          "base_uri": "https://localhost:8080/"
        },
        "id": "mG4NrC-4rkKL",
        "outputId": "53580f57-0ead-4749-d35d-fc0592295b36"
      },
      "source": [
        "mlmodel = coremltools.converters.convert(\n",
        "  traced,\n",
        "  inputs=[image_input],\n",
        ")"
      ],
      "execution_count": 11,
      "outputs": [
        {
          "output_type": "stream",
          "name": "stderr",
          "text": [
            "Converting Frontend ==> MIL Ops: 100%|█████████▉| 295/296 [00:00<00:00, 464.07 ops/s]\n",
            "Running MIL Common passes:   6%|▌         | 2/34 [00:00<00:01, 17.80 passes/s]/usr/local/lib/python3.7/dist-packages/coremltools/converters/mil/mil/passes/name_sanitization_utils.py:129: UserWarning: Output, '457', of the source model, has been renamed to 'var_457' in the Core ML model.\n",
            "  warnings.warn(msg.format(var.name, new_name))\n",
            "Running MIL Common passes: 100%|██████████| 34/34 [00:00<00:00, 56.21 passes/s]\n",
            "Running MIL Clean up passes: 100%|██████████| 9/9 [00:00<00:00, 69.52 passes/s]\n",
            "Translating MIL ==> NeuralNetwork Ops: 100%|██████████| 802/802 [00:00<00:00, 2251.57 ops/s]\n"
          ]
        }
      ]
    },
    {
      "cell_type": "code",
      "metadata": {
        "id": "WEoDqXHksph7"
      },
      "source": [
        "mlmodel.save('animegan2-celeba-distil-512.mlmodel')"
      ],
      "execution_count": 12,
      "outputs": []
    },
    {
      "cell_type": "code",
      "metadata": {
        "id": "yQfQT4CjtxIQ"
      },
      "source": [
        "spec = coremltools.utils.load_spec(\"animegan2-celeba-distil-512.mlmodel\")"
      ],
      "execution_count": 13,
      "outputs": []
    },
    {
      "cell_type": "code",
      "metadata": {
        "colab": {
          "base_uri": "https://localhost:8080/"
        },
        "id": "9j2XuuQPua59",
        "outputId": "eb3e1b74-84d3-4bc1-ae6b-dd375b49104e"
      },
      "source": [
        "print(spec.description.input)"
      ],
      "execution_count": 14,
      "outputs": [
        {
          "output_type": "stream",
          "name": "stdout",
          "text": [
            "[name: \"input_1\"\n",
            "type {\n",
            "  imageType {\n",
            "    width: 512\n",
            "    height: 512\n",
            "    colorSpace: RGB\n",
            "  }\n",
            "}\n",
            "]\n"
          ]
        }
      ]
    },
    {
      "cell_type": "code",
      "metadata": {
        "colab": {
          "base_uri": "https://localhost:8080/"
        },
        "id": "fYXOj7o7u-CZ",
        "outputId": "a73a2ec8-cb93-454e-841d-215134d60618"
      },
      "source": [
        "print(spec.description.output)"
      ],
      "execution_count": 15,
      "outputs": [
        {
          "output_type": "stream",
          "name": "stdout",
          "text": [
            "[name: \"var_457\"\n",
            "type {\n",
            "  multiArrayType {\n",
            "    dataType: FLOAT32\n",
            "  }\n",
            "}\n",
            "]\n"
          ]
        }
      ]
    },
    {
      "cell_type": "code",
      "metadata": {
        "id": "kWfP9jSNvQOl"
      },
      "source": [
        "import coremltools.proto.FeatureTypes_pb2 as ft\n",
        "\n",
        "output = spec.description.output[0]\n",
        "\n",
        "output.type.imageType.colorSpace = ft.ImageFeatureType.RGB\n",
        "output.type.imageType.height = 512\n",
        "output.type.imageType.width = 512\n",
        "\n",
        "coremltools.utils.save_spec(spec, \"animegan2-celeba-distil-512.mlmodel\")"
      ],
      "execution_count": 16,
      "outputs": []
    },
    {
      "cell_type": "code",
      "metadata": {
        "id": "NpUNPIFmvWh2"
      },
      "source": [
        "spec = coremltools.utils.load_spec(\"animegan2-celeba-distil-512.mlmodel\")"
      ],
      "execution_count": 17,
      "outputs": []
    },
    {
      "cell_type": "code",
      "metadata": {
        "colab": {
          "base_uri": "https://localhost:8080/"
        },
        "id": "w7NbXRtbvvHf",
        "outputId": "27b20047-cc1b-42ad-9bd8-a2e449aa2a90"
      },
      "source": [
        "print(spec.description.output)"
      ],
      "execution_count": 18,
      "outputs": [
        {
          "output_type": "stream",
          "name": "stdout",
          "text": [
            "[name: \"var_457\"\n",
            "type {\n",
            "  imageType {\n",
            "    width: 512\n",
            "    height: 512\n",
            "    colorSpace: RGB\n",
            "  }\n",
            "}\n",
            "]\n"
          ]
        }
      ]
    }
  ]
}