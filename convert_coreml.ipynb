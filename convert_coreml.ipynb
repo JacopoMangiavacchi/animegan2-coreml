{
  "nbformat": 4,
  "nbformat_minor": 0,
  "metadata": {
    "kernelspec": {
      "display_name": "torch171",
      "language": "python",
      "name": "torch171"
    },
    "language_info": {
      "codemirror_mode": {
        "name": "ipython",
        "version": 3
      },
      "file_extension": ".py",
      "mimetype": "text/x-python",
      "name": "python",
      "nbconvert_exporter": "python",
      "pygments_lexer": "ipython3",
      "version": "3.7.9"
    },
    "colab": {
      "name": "test_faces.ipynb",
      "provenance": [],
      "include_colab_link": true
    }
  },
  "cells": [
    {
      "cell_type": "markdown",
      "metadata": {
        "id": "view-in-github",
        "colab_type": "text"
      },
      "source": [
        "<a href=\"https://colab.research.google.com/github/JacopoMangiavacchi/animegan2-coreml/blob/master/convert_coreml.ipynb\" target=\"_parent\"><img src=\"https://colab.research.google.com/assets/colab-badge.svg\" alt=\"Open In Colab\"/></a>"
      ]
    },
    {
      "cell_type": "code",
      "metadata": {
        "id": "ZNGnG2iQoWjw",
        "colab": {
          "base_uri": "https://localhost:8080/"
        },
        "outputId": "e45cf332-32b1-4c1b-df6d-7f4d9671a5ca"
      },
      "source": [
        "!pip install coremltools"
      ],
      "execution_count": 1,
      "outputs": [
        {
          "output_type": "stream",
          "name": "stdout",
          "text": [
            "Requirement already satisfied: coremltools in /usr/local/lib/python3.7/dist-packages (5.1.0)\n",
            "Requirement already satisfied: numpy>=1.14.5 in /usr/local/lib/python3.7/dist-packages (from coremltools) (1.19.5)\n",
            "Requirement already satisfied: protobuf>=3.1.0 in /usr/local/lib/python3.7/dist-packages (from coremltools) (3.17.3)\n",
            "Requirement already satisfied: packaging in /usr/local/lib/python3.7/dist-packages (from coremltools) (21.2)\n",
            "Requirement already satisfied: tqdm in /usr/local/lib/python3.7/dist-packages (from coremltools) (4.62.3)\n",
            "Requirement already satisfied: sympy in /usr/local/lib/python3.7/dist-packages (from coremltools) (1.7.1)\n",
            "Requirement already satisfied: six>=1.9 in /usr/local/lib/python3.7/dist-packages (from protobuf>=3.1.0->coremltools) (1.15.0)\n",
            "Requirement already satisfied: pyparsing<3,>=2.0.2 in /usr/local/lib/python3.7/dist-packages (from packaging->coremltools) (2.4.7)\n",
            "Requirement already satisfied: mpmath>=0.19 in /usr/local/lib/python3.7/dist-packages (from sympy->coremltools) (1.2.1)\n"
          ]
        }
      ]
    },
    {
      "cell_type": "code",
      "metadata": {
        "colab": {
          "base_uri": "https://localhost:8080/"
        },
        "id": "qTyeQkJiqIap",
        "outputId": "be55a951-d59b-4cc6-a7a0-dbc0fb6c3bdd"
      },
      "source": [
        "import os\n",
        "import torch\n",
        "import coremltools"
      ],
      "execution_count": 2,
      "outputs": [
        {
          "output_type": "stream",
          "name": "stderr",
          "text": [
            "WARNING:root:scikit-learn version 1.0.1 is not supported. Minimum required version: 0.17. Maximum required version: 0.19.2. Disabling scikit-learn conversion API.\n",
            "WARNING:root:TensorFlow version 2.7.0 has not been tested with coremltools. You may run into unexpected errors. TensorFlow 2.5.0 is the most recent version that has been tested.\n",
            "WARNING:root:Keras version 2.7.0 has not been tested with coremltools. You may run into unexpected errors. Keras 2.2.4 is the most recent version that has been tested.\n",
            "WARNING:root:Torch version 1.10.0+cu111 has not been tested with coremltools. You may run into unexpected errors. Torch 1.9.1 is the most recent version that has been tested.\n"
          ]
        }
      ]
    },
    {
      "cell_type": "code",
      "metadata": {
        "id": "c-aipQlLkolf",
        "colab": {
          "base_uri": "https://localhost:8080/"
        },
        "outputId": "4f76e41a-4fc0-4a4a-82ac-2a347580848e"
      },
      "source": [
        "!git clone https://github.com/jacopomangiavacchi/animegan2-coreml"
      ],
      "execution_count": 3,
      "outputs": [
        {
          "output_type": "stream",
          "name": "stdout",
          "text": [
            "Cloning into 'animegan2-coreml'...\n",
            "remote: Enumerating objects: 73, done.\u001b[K\n",
            "remote: Counting objects: 100% (73/73), done.\u001b[K\n",
            "remote: Compressing objects: 100% (66/66), done.\u001b[K\n",
            "remote: Total 73 (delta 27), reused 36 (delta 6), pack-reused 0\u001b[K\n",
            "Unpacking objects: 100% (73/73), done.\n"
          ]
        }
      ]
    },
    {
      "cell_type": "code",
      "metadata": {
        "id": "fiZ9sJtVmOHy"
      },
      "source": [
        "os.chdir(f'./animegan2-coreml')"
      ],
      "execution_count": 4,
      "outputs": []
    },
    {
      "cell_type": "code",
      "metadata": {
        "id": "kVFiEMWooRgm"
      },
      "source": [
        "from model import Generator\n",
        "\n",
        "device = 'cpu'\n",
        "torch.set_grad_enabled(False)\n",
        "\n",
        "model = Generator().eval().to(device)"
      ],
      "execution_count": 5,
      "outputs": []
    },
    {
      "cell_type": "code",
      "metadata": {
        "id": "quUonyi4kUha",
        "colab": {
          "base_uri": "https://localhost:8080/"
        },
        "outputId": "51965297-b05d-4903-f041-f2e17c0bcae9"
      },
      "source": [
        "ckpt = torch.load(f\"weights/celeba_distill.pt\", map_location=device)\n",
        "# ckpt = torch.load(f\"weights/face_paint_512_v2.pt\", map_location=device)\n",
        "# ckpt = torch.load(f\"weights/paprika.pt\", map_location=device)\n",
        "model.load_state_dict(ckpt)"
      ],
      "execution_count": 6,
      "outputs": [
        {
          "output_type": "execute_result",
          "data": {
            "text/plain": [
              "<All keys matched successfully>"
            ]
          },
          "metadata": {},
          "execution_count": 6
        }
      ]
    },
    {
      "cell_type": "code",
      "metadata": {
        "colab": {
          "base_uri": "https://localhost:8080/"
        },
        "id": "yuAtLJWPrFBU",
        "outputId": "047fae43-7b04-4aa1-92a3-29f11f874205"
      },
      "source": [
        "image_sizes = [256, 512, 1024]\n",
        "\n",
        "for image_size in image_sizes:\n",
        "    image = torch.randn(1, 3, image_size, image_size)\n",
        "    output = model(image.to(device))\n",
        "\n",
        "    # scripted_model = torch.jit.script(model)\n",
        "    traced = torch.jit.trace(model, image)\n",
        "\n",
        "    image_input = coremltools.ImageType(name=\"input_1\", shape=(1, 3, image_size, image_size))\n",
        "\n",
        "    mlmodel = coremltools.converters.convert(\n",
        "      traced,\n",
        "      inputs=[image_input],\n",
        "    )\n",
        "\n",
        "    mlmodel.save(f'animegan2-celeba-distil-{image_size}.mlpackage')    \n",
        "    spec = coremltools.utils.load_spec(f\"animegan2-celeba-distil-{image_size}.mlpackage\")\n",
        "\n",
        "    output = spec.description.output[0]\n",
        "\n",
        "    output.type.imageType.colorSpace = coremltools.proto.FeatureTypes_pb2.ImageFeatureType.RGB\n",
        "    output.type.imageType.height = image_size\n",
        "    output.type.imageType.width = image_size\n",
        "\n",
        "    coremltools.utils.save_spec(spec, f\"animegan2-celeba-distil-{image_size}.mlpackage\")"
      ],
      "execution_count": 7,
      "outputs": [
        {
          "output_type": "stream",
          "name": "stderr",
          "text": [
            "/usr/local/lib/python3.7/dist-packages/torch/nn/functional.py:2359: UserWarning: __floordiv__ is deprecated, and its behavior will change in a future version of pytorch. It currently rounds toward 0 (like the 'trunc' function NOT 'floor'). This results in incorrect rounding for negative values. To keep the current behavior, use torch.div(a, b, rounding_mode='trunc'), or for actual floor division, use torch.div(a, b, rounding_mode='floor').\n",
            "  _verify_batch_size([input.size(0) * input.size(1) // num_groups, num_groups] + list(input.size()[2:]))\n",
            "Converting Frontend ==> MIL Ops: 100%|█████████▉| 295/296 [00:00<00:00, 456.49 ops/s]\n",
            "Running MIL Common passes:   6%|▌         | 2/34 [00:00<00:01, 17.62 passes/s]/usr/local/lib/python3.7/dist-packages/coremltools/converters/mil/mil/passes/name_sanitization_utils.py:129: UserWarning: Output, '457', of the source model, has been renamed to 'var_457' in the Core ML model.\n",
            "  warnings.warn(msg.format(var.name, new_name))\n",
            "Running MIL Common passes: 100%|██████████| 34/34 [00:00<00:00, 53.38 passes/s]\n",
            "Running MIL Clean up passes: 100%|██████████| 9/9 [00:00<00:00, 72.35 passes/s]\n",
            "Translating MIL ==> NeuralNetwork Ops: 100%|██████████| 802/802 [00:00<00:00, 2238.51 ops/s]\n",
            "Converting Frontend ==> MIL Ops: 100%|█████████▉| 295/296 [00:00<00:00, 454.30 ops/s]\n",
            "Running MIL Common passes: 100%|██████████| 34/34 [00:00<00:00, 56.37 passes/s]\n",
            "Running MIL Clean up passes: 100%|██████████| 9/9 [00:00<00:00, 73.92 passes/s]\n",
            "Translating MIL ==> NeuralNetwork Ops: 100%|██████████| 802/802 [00:00<00:00, 2229.01 ops/s]\n",
            "Converting Frontend ==> MIL Ops: 100%|█████████▉| 295/296 [00:00<00:00, 450.09 ops/s]\n",
            "Running MIL Common passes: 100%|██████████| 34/34 [00:00<00:00, 53.57 passes/s]\n",
            "Running MIL Clean up passes: 100%|██████████| 9/9 [00:00<00:00, 67.70 passes/s]\n",
            "Translating MIL ==> NeuralNetwork Ops: 100%|██████████| 802/802 [00:00<00:00, 2187.67 ops/s]\n"
          ]
        }
      ]
    },
    {
      "cell_type": "code",
      "metadata": {
        "id": "Io_P7LTfsPys",
        "outputId": "e1d302a8-7828-45fd-8332-ab016c25515a",
        "colab": {
          "base_uri": "https://localhost:8080/"
        }
      },
      "source": [
        "!zip -r /content/animegan2-coreml/animegan2-celeba-distil-1024.zip /content/animegan2-coreml/animegan2-celeba-distil-1024.mlpackage\n",
        "!zip -r /content/animegan2-coreml/animegan2-celeba-distil-512.zip /content/animegan2-coreml/animegan2-celeba-distil-512.mlpackage\n",
        "!zip -r /content/animegan2-coreml/animegan2-celeba-distil-256.zip /content/animegan2-coreml/animegan2-celeba-distil-256.mlpackage"
      ],
      "execution_count": 8,
      "outputs": [
        {
          "output_type": "stream",
          "name": "stdout",
          "text": [
            "  adding: content/animegan2-coreml/animegan2-celeba-distil-1024.mlpackage/ (stored 0%)\n",
            "  adding: content/animegan2-coreml/animegan2-celeba-distil-1024.mlpackage/Manifest.json (deflated 49%)\n",
            "  adding: content/animegan2-coreml/animegan2-celeba-distil-1024.mlpackage/Data/ (stored 0%)\n",
            "  adding: content/animegan2-coreml/animegan2-celeba-distil-1024.mlpackage/Data/com.apple.CoreML/ (stored 0%)\n",
            "  adding: content/animegan2-coreml/animegan2-celeba-distil-1024.mlpackage/Data/com.apple.CoreML/animegan2-celeba-distil-1024.mlmodel (deflated 8%)\n",
            "  adding: content/animegan2-coreml/animegan2-celeba-distil-512.mlpackage/ (stored 0%)\n",
            "  adding: content/animegan2-coreml/animegan2-celeba-distil-512.mlpackage/Manifest.json (deflated 49%)\n",
            "  adding: content/animegan2-coreml/animegan2-celeba-distil-512.mlpackage/Data/ (stored 0%)\n",
            "  adding: content/animegan2-coreml/animegan2-celeba-distil-512.mlpackage/Data/com.apple.CoreML/ (stored 0%)\n",
            "  adding: content/animegan2-coreml/animegan2-celeba-distil-512.mlpackage/Data/com.apple.CoreML/animegan2-celeba-distil-512.mlmodel (deflated 8%)\n",
            "  adding: content/animegan2-coreml/animegan2-celeba-distil-256.mlpackage/ (stored 0%)\n",
            "  adding: content/animegan2-coreml/animegan2-celeba-distil-256.mlpackage/Manifest.json (deflated 49%)\n",
            "  adding: content/animegan2-coreml/animegan2-celeba-distil-256.mlpackage/Data/ (stored 0%)\n",
            "  adding: content/animegan2-coreml/animegan2-celeba-distil-256.mlpackage/Data/com.apple.CoreML/ (stored 0%)\n",
            "  adding: content/animegan2-coreml/animegan2-celeba-distil-256.mlpackage/Data/com.apple.CoreML/animegan2-celeba-distil-256.mlmodel (deflated 8%)\n"
          ]
        }
      ]
    },
    {
      "cell_type": "code",
      "metadata": {
        "id": "78mxCiWArpff"
      },
      "source": [
        "os.chdir(f'..')"
      ],
      "execution_count": 9,
      "outputs": []
    }
  ]
}