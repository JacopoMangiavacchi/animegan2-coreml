{
  "nbformat": 4,
  "nbformat_minor": 0,
  "metadata": {
    "kernelspec": {
      "display_name": "torch171",
      "language": "python",
      "name": "torch171"
    },
    "language_info": {
      "codemirror_mode": {
        "name": "ipython",
        "version": 3
      },
      "file_extension": ".py",
      "mimetype": "text/x-python",
      "name": "python",
      "nbconvert_exporter": "python",
      "pygments_lexer": "ipython3",
      "version": "3.7.9"
    },
    "colab": {
      "name": "test_faces.ipynb",
      "provenance": [],
      "include_colab_link": true
    }
  },
  "cells": [
    {
      "cell_type": "markdown",
      "metadata": {
        "id": "view-in-github",
        "colab_type": "text"
      },
      "source": [
        "<a href=\"https://colab.research.google.com/github/JacopoMangiavacchi/animegan2-coreml/blob/master/convert_coreml.ipynb\" target=\"_parent\"><img src=\"https://colab.research.google.com/assets/colab-badge.svg\" alt=\"Open In Colab\"/></a>"
      ]
    },
    {
      "cell_type": "code",
      "metadata": {
        "id": "ZNGnG2iQoWjw",
        "colab": {
          "base_uri": "https://localhost:8080/"
        },
        "outputId": "290a3230-d72c-4e8b-a15b-2c6ed14c6e6c"
      },
      "source": [
        "!pip install coremltools"
      ],
      "execution_count": 1,
      "outputs": [
        {
          "output_type": "stream",
          "name": "stdout",
          "text": [
            "Collecting coremltools\n",
            "  Downloading coremltools-5.1.0-cp37-none-manylinux1_x86_64.whl (1.6 MB)\n",
            "\u001b[?25l\r\u001b[K     |▏                               | 10 kB 29.3 MB/s eta 0:00:01\r\u001b[K     |▍                               | 20 kB 39.0 MB/s eta 0:00:01\r\u001b[K     |▋                               | 30 kB 27.5 MB/s eta 0:00:01\r\u001b[K     |▉                               | 40 kB 18.3 MB/s eta 0:00:01\r\u001b[K     |█                               | 51 kB 13.6 MB/s eta 0:00:01\r\u001b[K     |█▎                              | 61 kB 10.6 MB/s eta 0:00:01\r\u001b[K     |█▌                              | 71 kB 11.9 MB/s eta 0:00:01\r\u001b[K     |█▊                              | 81 kB 13.3 MB/s eta 0:00:01\r\u001b[K     |██                              | 92 kB 13.9 MB/s eta 0:00:01\r\u001b[K     |██                              | 102 kB 12.7 MB/s eta 0:00:01\r\u001b[K     |██▎                             | 112 kB 12.7 MB/s eta 0:00:01\r\u001b[K     |██▌                             | 122 kB 12.7 MB/s eta 0:00:01\r\u001b[K     |██▊                             | 133 kB 12.7 MB/s eta 0:00:01\r\u001b[K     |███                             | 143 kB 12.7 MB/s eta 0:00:01\r\u001b[K     |███▏                            | 153 kB 12.7 MB/s eta 0:00:01\r\u001b[K     |███▍                            | 163 kB 12.7 MB/s eta 0:00:01\r\u001b[K     |███▋                            | 174 kB 12.7 MB/s eta 0:00:01\r\u001b[K     |███▉                            | 184 kB 12.7 MB/s eta 0:00:01\r\u001b[K     |████                            | 194 kB 12.7 MB/s eta 0:00:01\r\u001b[K     |████▏                           | 204 kB 12.7 MB/s eta 0:00:01\r\u001b[K     |████▍                           | 215 kB 12.7 MB/s eta 0:00:01\r\u001b[K     |████▋                           | 225 kB 12.7 MB/s eta 0:00:01\r\u001b[K     |████▉                           | 235 kB 12.7 MB/s eta 0:00:01\r\u001b[K     |█████                           | 245 kB 12.7 MB/s eta 0:00:01\r\u001b[K     |█████▎                          | 256 kB 12.7 MB/s eta 0:00:01\r\u001b[K     |█████▌                          | 266 kB 12.7 MB/s eta 0:00:01\r\u001b[K     |█████▊                          | 276 kB 12.7 MB/s eta 0:00:01\r\u001b[K     |██████                          | 286 kB 12.7 MB/s eta 0:00:01\r\u001b[K     |██████▏                         | 296 kB 12.7 MB/s eta 0:00:01\r\u001b[K     |██████▎                         | 307 kB 12.7 MB/s eta 0:00:01\r\u001b[K     |██████▌                         | 317 kB 12.7 MB/s eta 0:00:01\r\u001b[K     |██████▊                         | 327 kB 12.7 MB/s eta 0:00:01\r\u001b[K     |███████                         | 337 kB 12.7 MB/s eta 0:00:01\r\u001b[K     |███████▏                        | 348 kB 12.7 MB/s eta 0:00:01\r\u001b[K     |███████▍                        | 358 kB 12.7 MB/s eta 0:00:01\r\u001b[K     |███████▋                        | 368 kB 12.7 MB/s eta 0:00:01\r\u001b[K     |███████▉                        | 378 kB 12.7 MB/s eta 0:00:01\r\u001b[K     |████████                        | 389 kB 12.7 MB/s eta 0:00:01\r\u001b[K     |████████▏                       | 399 kB 12.7 MB/s eta 0:00:01\r\u001b[K     |████████▍                       | 409 kB 12.7 MB/s eta 0:00:01\r\u001b[K     |████████▋                       | 419 kB 12.7 MB/s eta 0:00:01\r\u001b[K     |████████▉                       | 430 kB 12.7 MB/s eta 0:00:01\r\u001b[K     |█████████                       | 440 kB 12.7 MB/s eta 0:00:01\r\u001b[K     |█████████▎                      | 450 kB 12.7 MB/s eta 0:00:01\r\u001b[K     |█████████▌                      | 460 kB 12.7 MB/s eta 0:00:01\r\u001b[K     |█████████▊                      | 471 kB 12.7 MB/s eta 0:00:01\r\u001b[K     |██████████                      | 481 kB 12.7 MB/s eta 0:00:01\r\u001b[K     |██████████▏                     | 491 kB 12.7 MB/s eta 0:00:01\r\u001b[K     |██████████▎                     | 501 kB 12.7 MB/s eta 0:00:01\r\u001b[K     |██████████▌                     | 512 kB 12.7 MB/s eta 0:00:01\r\u001b[K     |██████████▊                     | 522 kB 12.7 MB/s eta 0:00:01\r\u001b[K     |███████████                     | 532 kB 12.7 MB/s eta 0:00:01\r\u001b[K     |███████████▏                    | 542 kB 12.7 MB/s eta 0:00:01\r\u001b[K     |███████████▍                    | 552 kB 12.7 MB/s eta 0:00:01\r\u001b[K     |███████████▋                    | 563 kB 12.7 MB/s eta 0:00:01\r\u001b[K     |███████████▉                    | 573 kB 12.7 MB/s eta 0:00:01\r\u001b[K     |████████████                    | 583 kB 12.7 MB/s eta 0:00:01\r\u001b[K     |████████████▎                   | 593 kB 12.7 MB/s eta 0:00:01\r\u001b[K     |████████████▍                   | 604 kB 12.7 MB/s eta 0:00:01\r\u001b[K     |████████████▋                   | 614 kB 12.7 MB/s eta 0:00:01\r\u001b[K     |████████████▉                   | 624 kB 12.7 MB/s eta 0:00:01\r\u001b[K     |█████████████                   | 634 kB 12.7 MB/s eta 0:00:01\r\u001b[K     |█████████████▎                  | 645 kB 12.7 MB/s eta 0:00:01\r\u001b[K     |█████████████▌                  | 655 kB 12.7 MB/s eta 0:00:01\r\u001b[K     |█████████████▊                  | 665 kB 12.7 MB/s eta 0:00:01\r\u001b[K     |██████████████                  | 675 kB 12.7 MB/s eta 0:00:01\r\u001b[K     |██████████████▏                 | 686 kB 12.7 MB/s eta 0:00:01\r\u001b[K     |██████████████▍                 | 696 kB 12.7 MB/s eta 0:00:01\r\u001b[K     |██████████████▌                 | 706 kB 12.7 MB/s eta 0:00:01\r\u001b[K     |██████████████▊                 | 716 kB 12.7 MB/s eta 0:00:01\r\u001b[K     |███████████████                 | 727 kB 12.7 MB/s eta 0:00:01\r\u001b[K     |███████████████▏                | 737 kB 12.7 MB/s eta 0:00:01\r\u001b[K     |███████████████▍                | 747 kB 12.7 MB/s eta 0:00:01\r\u001b[K     |███████████████▋                | 757 kB 12.7 MB/s eta 0:00:01\r\u001b[K     |███████████████▉                | 768 kB 12.7 MB/s eta 0:00:01\r\u001b[K     |████████████████                | 778 kB 12.7 MB/s eta 0:00:01\r\u001b[K     |████████████████▎               | 788 kB 12.7 MB/s eta 0:00:01\r\u001b[K     |████████████████▍               | 798 kB 12.7 MB/s eta 0:00:01\r\u001b[K     |████████████████▋               | 808 kB 12.7 MB/s eta 0:00:01\r\u001b[K     |████████████████▉               | 819 kB 12.7 MB/s eta 0:00:01\r\u001b[K     |█████████████████               | 829 kB 12.7 MB/s eta 0:00:01\r\u001b[K     |█████████████████▎              | 839 kB 12.7 MB/s eta 0:00:01\r\u001b[K     |█████████████████▌              | 849 kB 12.7 MB/s eta 0:00:01\r\u001b[K     |█████████████████▊              | 860 kB 12.7 MB/s eta 0:00:01\r\u001b[K     |██████████████████              | 870 kB 12.7 MB/s eta 0:00:01\r\u001b[K     |██████████████████▏             | 880 kB 12.7 MB/s eta 0:00:01\r\u001b[K     |██████████████████▍             | 890 kB 12.7 MB/s eta 0:00:01\r\u001b[K     |██████████████████▌             | 901 kB 12.7 MB/s eta 0:00:01\r\u001b[K     |██████████████████▊             | 911 kB 12.7 MB/s eta 0:00:01\r\u001b[K     |███████████████████             | 921 kB 12.7 MB/s eta 0:00:01\r\u001b[K     |███████████████████▏            | 931 kB 12.7 MB/s eta 0:00:01\r\u001b[K     |███████████████████▍            | 942 kB 12.7 MB/s eta 0:00:01\r\u001b[K     |███████████████████▋            | 952 kB 12.7 MB/s eta 0:00:01\r\u001b[K     |███████████████████▉            | 962 kB 12.7 MB/s eta 0:00:01\r\u001b[K     |████████████████████            | 972 kB 12.7 MB/s eta 0:00:01\r\u001b[K     |████████████████████▎           | 983 kB 12.7 MB/s eta 0:00:01\r\u001b[K     |████████████████████▌           | 993 kB 12.7 MB/s eta 0:00:01\r\u001b[K     |████████████████████▋           | 1.0 MB 12.7 MB/s eta 0:00:01\r\u001b[K     |████████████████████▉           | 1.0 MB 12.7 MB/s eta 0:00:01\r\u001b[K     |█████████████████████           | 1.0 MB 12.7 MB/s eta 0:00:01\r\u001b[K     |█████████████████████▎          | 1.0 MB 12.7 MB/s eta 0:00:01\r\u001b[K     |█████████████████████▌          | 1.0 MB 12.7 MB/s eta 0:00:01\r\u001b[K     |█████████████████████▊          | 1.1 MB 12.7 MB/s eta 0:00:01\r\u001b[K     |██████████████████████          | 1.1 MB 12.7 MB/s eta 0:00:01\r\u001b[K     |██████████████████████▏         | 1.1 MB 12.7 MB/s eta 0:00:01\r\u001b[K     |██████████████████████▍         | 1.1 MB 12.7 MB/s eta 0:00:01\r\u001b[K     |██████████████████████▌         | 1.1 MB 12.7 MB/s eta 0:00:01\r\u001b[K     |██████████████████████▊         | 1.1 MB 12.7 MB/s eta 0:00:01\r\u001b[K     |███████████████████████         | 1.1 MB 12.7 MB/s eta 0:00:01\r\u001b[K     |███████████████████████▏        | 1.1 MB 12.7 MB/s eta 0:00:01\r\u001b[K     |███████████████████████▍        | 1.1 MB 12.7 MB/s eta 0:00:01\r\u001b[K     |███████████████████████▋        | 1.1 MB 12.7 MB/s eta 0:00:01\r\u001b[K     |███████████████████████▉        | 1.2 MB 12.7 MB/s eta 0:00:01\r\u001b[K     |████████████████████████        | 1.2 MB 12.7 MB/s eta 0:00:01\r\u001b[K     |████████████████████████▎       | 1.2 MB 12.7 MB/s eta 0:00:01\r\u001b[K     |████████████████████████▌       | 1.2 MB 12.7 MB/s eta 0:00:01\r\u001b[K     |████████████████████████▋       | 1.2 MB 12.7 MB/s eta 0:00:01\r\u001b[K     |████████████████████████▉       | 1.2 MB 12.7 MB/s eta 0:00:01\r\u001b[K     |█████████████████████████       | 1.2 MB 12.7 MB/s eta 0:00:01\r\u001b[K     |█████████████████████████▎      | 1.2 MB 12.7 MB/s eta 0:00:01\r\u001b[K     |█████████████████████████▌      | 1.2 MB 12.7 MB/s eta 0:00:01\r\u001b[K     |█████████████████████████▊      | 1.2 MB 12.7 MB/s eta 0:00:01\r\u001b[K     |██████████████████████████      | 1.3 MB 12.7 MB/s eta 0:00:01\r\u001b[K     |██████████████████████████▏     | 1.3 MB 12.7 MB/s eta 0:00:01\r\u001b[K     |██████████████████████████▍     | 1.3 MB 12.7 MB/s eta 0:00:01\r\u001b[K     |██████████████████████████▋     | 1.3 MB 12.7 MB/s eta 0:00:01\r\u001b[K     |██████████████████████████▊     | 1.3 MB 12.7 MB/s eta 0:00:01\r\u001b[K     |███████████████████████████     | 1.3 MB 12.7 MB/s eta 0:00:01\r\u001b[K     |███████████████████████████▏    | 1.3 MB 12.7 MB/s eta 0:00:01\r\u001b[K     |███████████████████████████▍    | 1.3 MB 12.7 MB/s eta 0:00:01\r\u001b[K     |███████████████████████████▋    | 1.3 MB 12.7 MB/s eta 0:00:01\r\u001b[K     |███████████████████████████▉    | 1.4 MB 12.7 MB/s eta 0:00:01\r\u001b[K     |████████████████████████████    | 1.4 MB 12.7 MB/s eta 0:00:01\r\u001b[K     |████████████████████████████▎   | 1.4 MB 12.7 MB/s eta 0:00:01\r\u001b[K     |████████████████████████████▌   | 1.4 MB 12.7 MB/s eta 0:00:01\r\u001b[K     |████████████████████████████▊   | 1.4 MB 12.7 MB/s eta 0:00:01\r\u001b[K     |████████████████████████████▉   | 1.4 MB 12.7 MB/s eta 0:00:01\r\u001b[K     |█████████████████████████████   | 1.4 MB 12.7 MB/s eta 0:00:01\r\u001b[K     |█████████████████████████████▎  | 1.4 MB 12.7 MB/s eta 0:00:01\r\u001b[K     |█████████████████████████████▌  | 1.4 MB 12.7 MB/s eta 0:00:01\r\u001b[K     |█████████████████████████████▊  | 1.4 MB 12.7 MB/s eta 0:00:01\r\u001b[K     |██████████████████████████████  | 1.5 MB 12.7 MB/s eta 0:00:01\r\u001b[K     |██████████████████████████████▏ | 1.5 MB 12.7 MB/s eta 0:00:01\r\u001b[K     |██████████████████████████████▍ | 1.5 MB 12.7 MB/s eta 0:00:01\r\u001b[K     |██████████████████████████████▋ | 1.5 MB 12.7 MB/s eta 0:00:01\r\u001b[K     |██████████████████████████████▊ | 1.5 MB 12.7 MB/s eta 0:00:01\r\u001b[K     |███████████████████████████████ | 1.5 MB 12.7 MB/s eta 0:00:01\r\u001b[K     |███████████████████████████████▏| 1.5 MB 12.7 MB/s eta 0:00:01\r\u001b[K     |███████████████████████████████▍| 1.5 MB 12.7 MB/s eta 0:00:01\r\u001b[K     |███████████████████████████████▋| 1.5 MB 12.7 MB/s eta 0:00:01\r\u001b[K     |███████████████████████████████▉| 1.5 MB 12.7 MB/s eta 0:00:01\r\u001b[K     |████████████████████████████████| 1.6 MB 12.7 MB/s \n",
            "\u001b[?25hRequirement already satisfied: sympy in /usr/local/lib/python3.7/dist-packages (from coremltools) (1.7.1)\n",
            "Requirement already satisfied: protobuf>=3.1.0 in /usr/local/lib/python3.7/dist-packages (from coremltools) (3.17.3)\n",
            "Requirement already satisfied: tqdm in /usr/local/lib/python3.7/dist-packages (from coremltools) (4.62.3)\n",
            "Requirement already satisfied: numpy>=1.14.5 in /usr/local/lib/python3.7/dist-packages (from coremltools) (1.19.5)\n",
            "Requirement already satisfied: packaging in /usr/local/lib/python3.7/dist-packages (from coremltools) (21.2)\n",
            "Requirement already satisfied: six>=1.9 in /usr/local/lib/python3.7/dist-packages (from protobuf>=3.1.0->coremltools) (1.15.0)\n",
            "Requirement already satisfied: pyparsing<3,>=2.0.2 in /usr/local/lib/python3.7/dist-packages (from packaging->coremltools) (2.4.7)\n",
            "Requirement already satisfied: mpmath>=0.19 in /usr/local/lib/python3.7/dist-packages (from sympy->coremltools) (1.2.1)\n",
            "Installing collected packages: coremltools\n",
            "Successfully installed coremltools-5.1.0\n"
          ]
        }
      ]
    },
    {
      "cell_type": "code",
      "metadata": {
        "colab": {
          "base_uri": "https://localhost:8080/"
        },
        "id": "qTyeQkJiqIap",
        "outputId": "a1296af2-2279-4bfe-c438-3bd7694a5a36"
      },
      "source": [
        "import os\n",
        "import torch\n",
        "import coremltools"
      ],
      "execution_count": 2,
      "outputs": [
        {
          "output_type": "stream",
          "name": "stderr",
          "text": [
            "WARNING:root:scikit-learn version 1.0.1 is not supported. Minimum required version: 0.17. Maximum required version: 0.19.2. Disabling scikit-learn conversion API.\n",
            "WARNING:root:TensorFlow version 2.7.0 has not been tested with coremltools. You may run into unexpected errors. TensorFlow 2.5.0 is the most recent version that has been tested.\n",
            "WARNING:root:Keras version 2.7.0 has not been tested with coremltools. You may run into unexpected errors. Keras 2.2.4 is the most recent version that has been tested.\n",
            "WARNING:root:Torch version 1.10.0+cu111 has not been tested with coremltools. You may run into unexpected errors. Torch 1.9.1 is the most recent version that has been tested.\n"
          ]
        }
      ]
    },
    {
      "cell_type": "code",
      "metadata": {
        "id": "c-aipQlLkolf",
        "colab": {
          "base_uri": "https://localhost:8080/"
        },
        "outputId": "8e8a2436-e802-48c3-cc24-4cec0190a05b"
      },
      "source": [
        "!git clone https://github.com/jacopomangiavacchi/animegan2-coreml"
      ],
      "execution_count": 3,
      "outputs": [
        {
          "output_type": "stream",
          "name": "stdout",
          "text": [
            "Cloning into 'animegan2-coreml'...\n",
            "remote: Enumerating objects: 85, done.\u001b[K\n",
            "remote: Counting objects: 100% (85/85), done.\u001b[K\n",
            "remote: Compressing objects: 100% (78/78), done.\u001b[K\n",
            "remote: Total 85 (delta 35), reused 36 (delta 6), pack-reused 0\u001b[K\n",
            "Unpacking objects: 100% (85/85), done.\n"
          ]
        }
      ]
    },
    {
      "cell_type": "code",
      "metadata": {
        "id": "fiZ9sJtVmOHy"
      },
      "source": [
        "os.chdir(f'./animegan2-coreml')"
      ],
      "execution_count": 4,
      "outputs": []
    },
    {
      "cell_type": "code",
      "metadata": {
        "id": "kVFiEMWooRgm"
      },
      "source": [
        "from model import Generator\n",
        "\n",
        "device = 'cpu'\n",
        "torch.set_grad_enabled(False)\n",
        "\n",
        "model = Generator().eval().to(device)"
      ],
      "execution_count": 5,
      "outputs": []
    },
    {
      "cell_type": "code",
      "metadata": {
        "id": "quUonyi4kUha",
        "colab": {
          "base_uri": "https://localhost:8080/"
        },
        "outputId": "2bc9160b-ee47-4247-f779-0eb3bfc4ebb6"
      },
      "source": [
        "ckpt = torch.load(f\"weights/celeba_distill.pt\", map_location=device)\n",
        "# ckpt = torch.load(f\"weights/face_paint_512_v2.pt\", map_location=device)\n",
        "# ckpt = torch.load(f\"weights/paprika.pt\", map_location=device)\n",
        "model.load_state_dict(ckpt)"
      ],
      "execution_count": 6,
      "outputs": [
        {
          "output_type": "execute_result",
          "data": {
            "text/plain": [
              "<All keys matched successfully>"
            ]
          },
          "metadata": {},
          "execution_count": 6
        }
      ]
    },
    {
      "cell_type": "code",
      "metadata": {
        "colab": {
          "base_uri": "https://localhost:8080/"
        },
        "id": "yuAtLJWPrFBU",
        "outputId": "88eb1bad-d477-4ad9-a75e-a811e7ce7b46"
      },
      "source": [
        "image_sizes = [256, 512, 1024]\n",
        "\n",
        "for image_size in image_sizes:\n",
        "    image = torch.randn(1, 3, image_size, image_size)\n",
        "    output = model(image.to(device))\n",
        "\n",
        "    # scripted_model = torch.jit.script(model)\n",
        "    traced = torch.jit.trace(model, image)\n",
        "\n",
        "    image_input = coremltools.ImageType(name=\"input_1\", shape=(1, 3, image_size, image_size))\n",
        "\n",
        "    mlmodel = coremltools.converters.convert(\n",
        "      traced,\n",
        "      inputs=[image_input],\n",
        "      minimum_deployment_target=coremltools.target.iOS15,\n",
        "      compute_units=coremltools.ComputeUnit.ALL,\n",
        "      convert_to=\"mlprogram\", # \"neuralnetwork\"\n",
        "      compute_precision=coremltools.precision.FLOAT16\n",
        "    )\n",
        "\n",
        "    mlmodel.save(f'animegan2-celeba-distil-{image_size}.mlpackage')    \n",
        "    spec = coremltools.utils.load_spec(f\"animegan2-celeba-distil-{image_size}.mlpackage\")\n",
        "\n",
        "    output = spec.description.output[0]\n",
        "\n",
        "    output.type.imageType.colorSpace = coremltools.proto.FeatureTypes_pb2.ImageFeatureType.RGB\n",
        "    output.type.imageType.height = image_size\n",
        "    output.type.imageType.width = image_size\n",
        "\n",
        "    coremltools.utils.save_spec(spec, f\"animegan2-celeba-distil-{image_size}.mlpackage\")"
      ],
      "execution_count": 7,
      "outputs": [
        {
          "output_type": "stream",
          "name": "stderr",
          "text": [
            "/usr/local/lib/python3.7/dist-packages/torch/nn/functional.py:2359: UserWarning: __floordiv__ is deprecated, and its behavior will change in a future version of pytorch. It currently rounds toward 0 (like the 'trunc' function NOT 'floor'). This results in incorrect rounding for negative values. To keep the current behavior, use torch.div(a, b, rounding_mode='trunc'), or for actual floor division, use torch.div(a, b, rounding_mode='floor').\n",
            "  _verify_batch_size([input.size(0) * input.size(1) // num_groups, num_groups] + list(input.size()[2:]))\n",
            "Converting Frontend ==> MIL Ops: 100%|█████████▉| 295/296 [00:00<00:00, 548.62 ops/s]\n",
            "Running MIL Common passes:   0%|          | 0/34 [00:00<?, ? passes/s]/usr/local/lib/python3.7/dist-packages/coremltools/converters/mil/mil/passes/name_sanitization_utils.py:129: UserWarning: Output, '457', of the source model, has been renamed to 'var_457' in the Core ML model.\n",
            "  warnings.warn(msg.format(var.name, new_name))\n",
            "Running MIL Common passes: 100%|██████████| 34/34 [00:00<00:00, 63.95 passes/s]\n",
            "Running MIL FP16ComputePrecision pass: 100%|██████████| 1/1 [00:02<00:00,  2.63s/ passes]\n",
            "Running MIL Clean up passes: 100%|██████████| 9/9 [00:06<00:00,  1.46 passes/s]\n",
            "Converting Frontend ==> MIL Ops: 100%|█████████▉| 295/296 [00:00<00:00, 538.89 ops/s]\n",
            "Running MIL Common passes: 100%|██████████| 34/34 [00:00<00:00, 65.50 passes/s]\n",
            "Running MIL FP16ComputePrecision pass: 100%|██████████| 1/1 [00:02<00:00,  2.67s/ passes]\n",
            "Running MIL Clean up passes: 100%|██████████| 9/9 [00:06<00:00,  1.49 passes/s]\n",
            "Converting Frontend ==> MIL Ops: 100%|█████████▉| 295/296 [00:00<00:00, 526.11 ops/s]\n",
            "Running MIL Common passes: 100%|██████████| 34/34 [00:00<00:00, 64.26 passes/s]\n",
            "Running MIL FP16ComputePrecision pass: 100%|██████████| 1/1 [00:02<00:00,  2.59s/ passes]\n",
            "Running MIL Clean up passes: 100%|██████████| 9/9 [00:06<00:00,  1.47 passes/s]\n"
          ]
        }
      ]
    },
    {
      "cell_type": "code",
      "metadata": {
        "colab": {
          "base_uri": "https://localhost:8080/"
        },
        "id": "Io_P7LTfsPys",
        "outputId": "fbc6e8dd-405d-4dbb-b0aa-11413ac03eca"
      },
      "source": [
        "!zip -r /content/animegan2-coreml/animegan2-celeba-distil-1024.zip /content/animegan2-coreml/animegan2-celeba-distil-1024.mlpackage\n",
        "!zip -r /content/animegan2-coreml/animegan2-celeba-distil-512.zip /content/animegan2-coreml/animegan2-celeba-distil-512.mlpackage\n",
        "!zip -r /content/animegan2-coreml/animegan2-celeba-distil-256.zip /content/animegan2-coreml/animegan2-celeba-distil-256.mlpackage"
      ],
      "execution_count": 8,
      "outputs": [
        {
          "output_type": "stream",
          "name": "stdout",
          "text": [
            "  adding: content/animegan2-coreml/animegan2-celeba-distil-1024.mlpackage/ (stored 0%)\n",
            "  adding: content/animegan2-coreml/animegan2-celeba-distil-1024.mlpackage/Manifest.json (deflated 60%)\n",
            "  adding: content/animegan2-coreml/animegan2-celeba-distil-1024.mlpackage/Data/ (stored 0%)\n",
            "  adding: content/animegan2-coreml/animegan2-celeba-distil-1024.mlpackage/Data/com.apple.CoreML/ (stored 0%)\n",
            "  adding: content/animegan2-coreml/animegan2-celeba-distil-1024.mlpackage/Data/com.apple.CoreML/animegan2-celeba-distil-1024.mlmodel (deflated 88%)\n",
            "  adding: content/animegan2-coreml/animegan2-celeba-distil-1024.mlpackage/Data/com.apple.CoreML/weights/ (stored 0%)\n",
            "  adding: content/animegan2-coreml/animegan2-celeba-distil-1024.mlpackage/Data/com.apple.CoreML/weights/weight.bin (deflated 8%)\n",
            "  adding: content/animegan2-coreml/animegan2-celeba-distil-512.mlpackage/ (stored 0%)\n",
            "  adding: content/animegan2-coreml/animegan2-celeba-distil-512.mlpackage/Manifest.json (deflated 60%)\n",
            "  adding: content/animegan2-coreml/animegan2-celeba-distil-512.mlpackage/Data/ (stored 0%)\n",
            "  adding: content/animegan2-coreml/animegan2-celeba-distil-512.mlpackage/Data/com.apple.CoreML/ (stored 0%)\n",
            "  adding: content/animegan2-coreml/animegan2-celeba-distil-512.mlpackage/Data/com.apple.CoreML/animegan2-celeba-distil-512.mlmodel (deflated 88%)\n",
            "  adding: content/animegan2-coreml/animegan2-celeba-distil-512.mlpackage/Data/com.apple.CoreML/weights/ (stored 0%)\n",
            "  adding: content/animegan2-coreml/animegan2-celeba-distil-512.mlpackage/Data/com.apple.CoreML/weights/weight.bin (deflated 8%)\n",
            "  adding: content/animegan2-coreml/animegan2-celeba-distil-256.mlpackage/ (stored 0%)\n",
            "  adding: content/animegan2-coreml/animegan2-celeba-distil-256.mlpackage/Manifest.json (deflated 59%)\n",
            "  adding: content/animegan2-coreml/animegan2-celeba-distil-256.mlpackage/Data/ (stored 0%)\n",
            "  adding: content/animegan2-coreml/animegan2-celeba-distil-256.mlpackage/Data/com.apple.CoreML/ (stored 0%)\n",
            "  adding: content/animegan2-coreml/animegan2-celeba-distil-256.mlpackage/Data/com.apple.CoreML/animegan2-celeba-distil-256.mlmodel (deflated 88%)\n",
            "  adding: content/animegan2-coreml/animegan2-celeba-distil-256.mlpackage/Data/com.apple.CoreML/weights/ (stored 0%)\n",
            "  adding: content/animegan2-coreml/animegan2-celeba-distil-256.mlpackage/Data/com.apple.CoreML/weights/weight.bin (deflated 8%)\n"
          ]
        }
      ]
    },
    {
      "cell_type": "code",
      "metadata": {
        "id": "78mxCiWArpff"
      },
      "source": [
        "os.chdir(f'..')"
      ],
      "execution_count": 9,
      "outputs": []
    }
  ]
}